{
 "cells": [
  {
   "cell_type": "markdown",
   "id": "6a9d83aa-f298-4850-b673-8cb8258be828",
   "metadata": {},
   "source": [
    "# Octave notebook examples\n",
    "Here we present a couple of examples of PathFinder. We are using Octave so that this can be run in a MyBinder notebook.\n",
    "\n",
    "It does not appear possible to compile MEX functions in a MyBinder container, so here MEX functions are disabled. **Be warned**: the combination of (1) running octave in a free myBinder container and (2) running without MEX makes for an incredibly slow process. CPU times will be significantly improved if you install PathFnider locally."
   ]
  },
  {
   "cell_type": "code",
   "execution_count": 1,
   "id": "5bcbe4c7-fe8f-4ba8-906b-4b9f2833d411",
   "metadata": {
    "tags": []
   },
   "outputs": [],
   "source": [
    "addpath ..;\n",
    "addPaths();\n",
    "format long;\n",
    "% some plot formatting warnings will appear only in mybinder\n",
    "warning('off','Octave:text_interpreter');"
   ]
  },
  {
   "cell_type": "markdown",
   "id": "c864d974-45c5-426b-8cca-7a5f692cde13",
   "metadata": {},
   "source": [
    "## Simple example\n",
    "For this first example, we will consider the integral\n",
    "$\n",
    "I_{\\omega,J} = \\int_0^\\infty \\exp(\\mathrm{i}\\omega x^J)~ \\mathrm{d} x,\n",
    "$\n",
    "for $2\\leq J\\in\\mathbb{N}$ and $\\omega>0$. We will derive an exact value for this and compare it to the PathFinder approximation.\n",
    "\n",
    "By Jordan's Lemma, we can deform the contour $[0,\\infty]$ onto the contour parameterised by\n",
    "\n",
    "$\n",
    "h(p)=\\left(\\frac{\\mathrm{i} p}{\\omega}\\right)^{1/J}\\mathrm{e}^{2\\pi\\mathrm{i}/J},\\quad p\\in[0,\\infty].\n",
    "$\n",
    "\n",
    "Now\n",
    "\n",
    "$\n",
    "I_{\\omega,J} = \\int_{0}^\\infty \\exp(\\mathrm{i}\\omega h(p)^J) h'(p) ~ \\mathrm{d} p\n",
    "= \\frac{1}{J}\\left(\\frac{\\mathrm{i}\\mathrm{e}^{2\\pi\\mathrm{i}/J}}{\\omega}\\right)^J\\Gamma(1/J),\n",
    "$\n",
    "\n",
    "where $\\Gamma$ denotes the Gamma function."
   ]
  },
  {
   "cell_type": "code",
   "execution_count": 2,
   "id": "cfc96cc4-03be-4135-a70f-fa2453d9650d",
   "metadata": {
    "tags": []
   },
   "outputs": [],
   "source": [
    "# choose values:\n",
    "J = 3;\n",
    "omega = 100;"
   ]
  },
  {
   "cell_type": "code",
   "execution_count": 3,
   "id": "576c5239-984f-4a98-bb19-e18410dc64b8",
   "metadata": {
    "tags": []
   },
   "outputs": [
    {
     "name": "stdout",
     "output_type": "stream",
     "text": [
      "Iexact =  1.666116861704140e-01 + 9.619330186062594e-02i\n"
     ]
    }
   ],
   "source": [
    "% define the exact value of integral as a function handle\n",
    "Iexact =  (1/J)*(1i/omega)^(1/J) * gamma(1/J)"
   ]
  },
  {
   "cell_type": "code",
   "execution_count": 4,
   "id": "d34727d3-468f-4740-8b89-913f4d31092a",
   "metadata": {
    "tags": []
   },
   "outputs": [
    {
     "name": "stdout",
     "output_type": "stream",
     "text": [
      "Ipathfinder =  1.666116858440892e-01 + 9.619330167222226e-02i\n"
     ]
    }
   ],
   "source": [
    "% Define PathFinder approximation, again as a function handle\n",
    "numQuadPts = 10;\n",
    "Ipathfinder =  PathFinder(0, % lower limit of integral is zero\n",
    "                            0, % argument (angle) of upper limit of integral is zero\n",
    "                            [], % no amplitude function given\n",
    "                            [1 zeros(1,J)], # monomial phase coefficients, with leading term first\n",
    "                            omega,\n",
    "                            numQuadPts, # parameter which determines the number of points per contour\n",
    "                            'inf contour', [false true], % first enpoint finite, second endpoint infinite\n",
    "                            'use mex', false % cannot compile MEX functions in myBinder :-(\n",
    "                            )"
   ]
  },
  {
   "cell_type": "markdown",
   "id": "3db519de-2a65-4c0f-a6ef-214e47e81182",
   "metadata": {},
   "source": [
    "## A more complicated example\n",
    "Now we approximate the [swallowtail catastrophe integral](https://dlmf.nist.gov/36.2):\n",
    "\n",
    "$\n",
    "\\Psi_3(x_1,x_2,x_3):=\\int_{-\\infty}^\\infty \\exp(\\mathrm{i}[t^{5}+x_1t+x_2t^2+x_3t^3]) ~\\mathrm{d}t.\n",
    "$\n",
    "\n",
    "The coefficients of the phase function vary in three spatial dimensions, so we define our approximation as a function handle with three inputs. Such spatially varying integral representations arise in a broad range of applications."
   ]
  },
  {
   "cell_type": "code",
   "execution_count": 5,
   "id": "f6783e8f-cfc7-4d13-8987-14f59dd709f5",
   "metadata": {
    "tags": []
   },
   "outputs": [],
   "source": [
    "numQuadPts = 10; % quadrature points per contour\n",
    "\n",
    "I3 = @(x1, x2, x3) PathFinder(pi, 0, ... % complex angles of endpoints of integral\n",
    "                            [], ... % no amplitude function\n",
    "                            [1 0 x3 x2 x1 0],... % coefficients of swallowtail catastrophe\n",
    "                            1, ... % no frequncy parameter here\n",
    "                            numQuadPts, ... % quadrature points per contour\n",
    "                            'infcontour', [true true], % flag for inf contours\n",
    "                            'use mex', false); % cannot compile MEX functions in myBinder"
   ]
  },
  {
   "cell_type": "code",
   "execution_count": 6,
   "id": "531b3f5e-0b29-423a-8650-4e76843b62b3",
   "metadata": {
    "tags": []
   },
   "outputs": [],
   "source": [
    "% determine approximation/sampling parameters\n",
    "numPixels = 15; % how many pixels in each direction - may take a couple of minutes to run\n",
    "\n",
    "x3val = -5; % fix x3 value\n",
    "xRange = linspace(-8, 12, numPixels);\n",
    "yRange = linspace(-8, 8, numPixels);\n",
    "plotVals = zeros(numPixels); % initialise output to plot\n",
    "\n",
    "% sample at desired points\n",
    "for ix = 1:numPixels\n",
    "    for iy = 1:numPixels\n",
    "        plotVals(iy, ix) = I3(xRange(ix), yRange(iy), x3val);\n",
    "    end\n",
    "end"
   ]
  },
  {
   "cell_type": "code",
   "execution_count": 7,
   "id": "7d042f93-b4ec-4c2c-a37e-c5cfa45b8386",
   "metadata": {
    "tags": []
   },
   "outputs": [
    {
     "name": "stderr",
     "output_type": "stream",
     "text": [
      "\u001b[0;31mInline plot failed, consider trying another graphics toolkit\n",
      "error: print: figure must be visible or qt toolkit must be used with __gl_window__ property 'on' or QT_OFFSCREEN feature available\n",
      "error: called from\n",
      "    _make_figures>safe_print at line 125 column 7\n",
      "    _make_figures at line 49 column 13\n",
      "\n",
      "\u001b[0m"
     ]
    }
   ],
   "source": [
    "surf(xRange, yRange, abs(plotVals));\n",
    "view([0 90]);\n",
    "xlabel('x_1');\n",
    "ylabel('x_2');\n",
    "colorbar;\n",
    "title(['x_3=',num2str(x3val, 2)]);\n",
    "colormap('jet');\n",
    "shading interp;\n",
    "grid off;"
   ]
  },
  {
   "cell_type": "markdown",
   "id": "1aecea88-2af8-4010-9fe8-0bd1f406b8de",
   "metadata": {},
   "source": [
    "Now let's inspect `PathFinder`'s contour deformation for a some values of $(x_1,x_2,x_3)$. Recall that the red points are where the integrand is sampled, the black lines are all possible steepest descent contours, and the grey balls are the non-oscillatory region, where the integrand is deemed to be mildly oscillating and not growing too rapidly. This non-oscillatory region gets bigger as the stationary points coalesce."
   ]
  },
  {
   "cell_type": "code",
   "execution_count": 8,
   "id": "a515f89e-2f1c-48bd-b28a-c81c9fab9633",
   "metadata": {
    "tags": []
   },
   "outputs": [],
   "source": [
    "I3plot = @(x1, x2, x3) PathFinder(pi, 0, ... % complex angles of endpoints of integral\n",
    "                            [], ... % no amplitude function\n",
    "                            [1 0 x3 x2 x1 0],... % coefficients of swallowtail catastrophe\n",
    "                            1, ... % no frequncy parameter here\n",
    "                            numQuadPts, ... % quadrature points per contour\n",
    "                            'infcontour', [true true], % flag for inf contours\n",
    "                            'plot', % plot contours\n",
    "                            'use mex', false); % cannot compile MEX functions in myBinder"
   ]
  },
  {
   "cell_type": "code",
   "execution_count": 9,
   "id": "7960de03-78ac-48da-9304-df65628cfbc6",
   "metadata": {
    "tags": []
   },
   "outputs": [
    {
     "name": "stderr",
     "output_type": "stream",
     "text": [
      "\u001b[0;31mInline plot failed, consider trying another graphics toolkit\n",
      "error: print: figure must be visible or qt toolkit must be used with __gl_window__ property 'on' or QT_OFFSCREEN feature available\n",
      "error: called from\n",
      "    _make_figures>safe_print at line 125 column 7\n",
      "    _make_figures at line 49 column 13\n",
      "\n",
      "\u001b[0m"
     ]
    }
   ],
   "source": [
    "I3plot(6,-3.5,-8.0);"
   ]
  },
  {
   "cell_type": "code",
   "execution_count": 10,
   "id": "35e52845-bba2-46f1-b330-0e09ca0d55f9",
   "metadata": {
    "tags": []
   },
   "outputs": [
    {
     "name": "stderr",
     "output_type": "stream",
     "text": [
      "\u001b[0;31mInline plot failed, consider trying another graphics toolkit\n",
      "error: print: figure must be visible or qt toolkit must be used with __gl_window__ property 'on' or QT_OFFSCREEN feature available\n",
      "error: called from\n",
      "    _make_figures>safe_print at line 125 column 7\n",
      "    _make_figures at line 49 column 13\n",
      "\n",
      "\u001b[0m"
     ]
    }
   ],
   "source": [
    "I3plot(-2,-3.5,-8.0);"
   ]
  },
  {
   "cell_type": "code",
   "execution_count": 11,
   "id": "e5eba529-04a4-4dfe-9f27-04866fae36ff",
   "metadata": {
    "tags": []
   },
   "outputs": [
    {
     "name": "stderr",
     "output_type": "stream",
     "text": [
      "\u001b[0;31mInline plot failed, consider trying another graphics toolkit\n",
      "error: print: figure must be visible or qt toolkit must be used with __gl_window__ property 'on' or QT_OFFSCREEN feature available\n",
      "error: called from\n",
      "    _make_figures>safe_print at line 125 column 7\n",
      "    _make_figures at line 49 column 13\n",
      "\n",
      "\u001b[0m"
     ]
    }
   ],
   "source": [
    "I3plot(2.0,-1.5,-5.0);"
   ]
  }
 ],
 "metadata": {
  "kernelspec": {
   "display_name": "Octave",
   "language": "octave",
   "name": "octave"
  },
  "language_info": {
   "file_extension": ".m",
   "help_links": [
    {
     "text": "GNU Octave",
     "url": "https://www.gnu.org/software/octave/support.html"
    },
    {
     "text": "Octave Kernel",
     "url": "https://github.com/Calysto/octave_kernel"
    },
    {
     "text": "MetaKernel Magics",
     "url": "https://metakernel.readthedocs.io/en/latest/source/README.html"
    }
   ],
   "mimetype": "text/x-octave",
   "name": "octave",
   "version": "6.4.0"
  }
 },
 "nbformat": 4,
 "nbformat_minor": 5
}
